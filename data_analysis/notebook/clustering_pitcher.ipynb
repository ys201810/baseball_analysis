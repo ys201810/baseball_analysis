{
 "cells": [
  {
   "cell_type": "markdown",
   "id": "aa1469c6",
   "metadata": {},
   "source": [
    "## 投手を球種の割合でクラスタリングしてみる\n",
    "２０２２年に投球のある投手のみ利用。  \n",
    "pitcher_name, FF_rate, SI_rate....で適当に10個に分類。blrs/PAの上位を表示"
   ]
  },
  {
   "cell_type": "code",
   "execution_count": 87,
   "id": "ac9b08c1",
   "metadata": {},
   "outputs": [],
   "source": [
    "import pathlib\n",
    "import pandas as pd\n",
    "import glob\n",
    "import numpy as np\n",
    "import math"
   ]
  },
  {
   "cell_type": "code",
   "execution_count": 164,
   "id": "a0e14124",
   "metadata": {},
   "outputs": [],
   "source": [
    "pd.options.display.max_columns = 100\n",
    "pd.options.display.max_rows = 100"
   ]
  },
  {
   "cell_type": "markdown",
   "id": "5a089c60",
   "metadata": {},
   "source": [
    "### データ読み込み"
   ]
  },
  {
   "cell_type": "code",
   "execution_count": 5,
   "id": "d0a3d585",
   "metadata": {},
   "outputs": [],
   "source": [
    "data_path = pathlib.Path('/Users/shirai1/work/baseball_analysis/data_collection/data/baseball_savant')"
   ]
  },
  {
   "cell_type": "code",
   "execution_count": 47,
   "id": "791ca3f3",
   "metadata": {},
   "outputs": [
    {
     "name": "stdout",
     "output_type": "stream",
     "text": [
      "0 / 870\n",
      "100 / 870\n",
      "200 / 870\n",
      "300 / 870\n",
      "400 / 870\n",
      "500 / 870\n",
      "600 / 870\n",
      "700 / 870\n",
      "800 / 870\n",
      "2022年に投球数が100以上のピッチャーは356人\n"
     ]
    }
   ],
   "source": [
    "# 2022年に投球がある全選手のデータを読み込み\n",
    "player_df_dict = {}\n",
    "for i, csv_file in enumerate(list(data_path.glob('*.csv'))):\n",
    "    if i % 100 == 0:\n",
    "        print(f\"{i} / {len(list(data_path.glob('*.csv')))}\")\n",
    "    df = pd.read_csv(csv_file)\n",
    "    if '2022' in df['game_date'].str[:4].unique().tolist():\n",
    "        # 100球より投球数が少ない選手は弾く\n",
    "        if len(df['game_date'].str.startswith('2022')) < 100:\n",
    "            continue\n",
    "        player_df_dict[csv_file.stem] = df[df['game_date'].str.startswith('2022')]\n",
    "\n",
    "print(f\"2022年に投球数が100以上のピッチャーは{len(player_df_dict)}人\")"
   ]
  },
  {
   "cell_type": "markdown",
   "id": "19e6949e",
   "metadata": {},
   "source": [
    "### ピッチャーごとにローデータ作成\n",
    "球種ごとの割合を出す  \n",
    "球種は、['SL', 'SI', 'CH', 'CU', 'FF', 'FS', 'FC', 'KC', nan, 'FA', 'CS',　'EP']  \n",
    "SL/スライダー, SI/シンカー, CH/チェンジアップ, CU/カーブ, FF/4シーム, FS/スプリットフィンガー, FC/カッター, KC/ナックルカーブ, FA/4シーム？？, CS/スローカーブ, EP/イーファスピッチ(超スローボール)"
   ]
  },
  {
   "cell_type": "code",
   "execution_count": 323,
   "id": "4a3cd577",
   "metadata": {},
   "outputs": [],
   "source": [
    "pt_dict = {\n",
    "    'SL': 'スライダー', \n",
    "    'SI': 'シンカー', \n",
    "    'CH': 'チェンジアップ', \n",
    "    'CU': 'カーブ', \n",
    "    'FF': '4シーム', \n",
    "    'FS': 'スプリットフィンガー',\n",
    "    'FC': 'カッター', \n",
    "    'KC': 'ナックルカーブ', \n",
    "    'FA': '不明(4シームと同じ？？)', \n",
    "    'CS': 'スローカーブ', \n",
    "    'EP': 'イーファス'\n",
    "}"
   ]
  },
  {
   "cell_type": "code",
   "execution_count": 57,
   "id": "afeb3b58",
   "metadata": {},
   "outputs": [],
   "source": [
    "all_df = pd.concat([player_df_dict[val] for val in player_df_dict.keys()])"
   ]
  },
  {
   "cell_type": "code",
   "execution_count": 59,
   "id": "5bff0682",
   "metadata": {},
   "outputs": [
    {
     "data": {
      "text/plain": [
       "pitch_type\n",
       "CH     35870\n",
       "CS        54\n",
       "CU     28679\n",
       "EP        42\n",
       "FA       103\n",
       "FC     25373\n",
       "FF    101516\n",
       "FS      4829\n",
       "KC      5240\n",
       "SI     47590\n",
       "SL     64969\n",
       "dtype: int64"
      ]
     },
     "execution_count": 59,
     "metadata": {},
     "output_type": "execute_result"
    }
   ],
   "source": [
    "all_df.groupby('pitch_type').size()"
   ]
  },
  {
   "cell_type": "code",
   "execution_count": 119,
   "id": "c2a7e605",
   "metadata": {},
   "outputs": [],
   "source": [
    "all_pitch_types = [val for val in all_df.pitch_type.unique().tolist() if isinstance(val, str)]"
   ]
  },
  {
   "cell_type": "code",
   "execution_count": 130,
   "id": "593262ef",
   "metadata": {},
   "outputs": [],
   "source": [
    "results = []\n",
    "for player in player_df_dict.keys():\n",
    "    tmp_df = player_df_dict[player]\n",
    "    tmp_df = tmp_df[~tmp_df['pitch_type'].isnull()]  # pitch_typeがnullを削除\n",
    "    picth_types = tmp_df.groupby('pitch_type').size().index\n",
    "    cnts  = tmp_df.groupby('pitch_type').size().values\n",
    "    pitch_cnt_dict = dict(zip(picth_types, cnts))\n",
    "    total_cnt = cnts.sum()\n",
    "    \n",
    "    result = [player]\n",
    "    for pitch_type in all_pitch_types:\n",
    "        if pitch_type in pitch_cnt_dict.keys():\n",
    "            result.append(round(pitch_cnt_dict[pitch_type] / total_cnt, 5))\n",
    "        else:\n",
    "            result.append(0.0)\n",
    "    results.append(result.copy())"
   ]
  },
  {
   "cell_type": "markdown",
   "id": "ac107d65",
   "metadata": {},
   "source": [
    "### k-meansでクラスタリング"
   ]
  },
  {
   "cell_type": "code",
   "execution_count": 200,
   "id": "9113fb9e",
   "metadata": {},
   "outputs": [],
   "source": [
    "from sklearn.cluster import KMeans\n",
    "from sklearn import preprocessing\n",
    "import matplotlib.pyplot as plt"
   ]
  },
  {
   "cell_type": "code",
   "execution_count": 188,
   "id": "5b578804",
   "metadata": {},
   "outputs": [],
   "source": [
    "#　正規化\n",
    "mm = preprocessing.MinMaxScaler()\n",
    "data = np.array(results)[:, 1:]  # 選手名以外を利用。\n",
    "min_max_data = mm.fit_transform(data)"
   ]
  },
  {
   "cell_type": "code",
   "execution_count": 266,
   "id": "aa82f6e4",
   "metadata": {},
   "outputs": [],
   "source": [
    "num_clusters = 5\n",
    "\n",
    "model = KMeans(\n",
    "    n_clusters=num_clusters,\n",
    "    init='k-means++',     # k-means++法によりクラスタ中心を選択\n",
    "    n_init=10,\n",
    "    max_iter=300,\n",
    "    random_state=0\n",
    ").fit(min_max_data)"
   ]
  },
  {
   "cell_type": "code",
   "execution_count": 267,
   "id": "6eb444ec",
   "metadata": {},
   "outputs": [],
   "source": [
    "result_df = pd.DataFrame(results, columns=['player_name'] + all_pitch_types)"
   ]
  },
  {
   "cell_type": "code",
   "execution_count": 268,
   "id": "4c3765c5",
   "metadata": {},
   "outputs": [],
   "source": [
    "result_df['cluster'] = model.labels_"
   ]
  },
  {
   "cell_type": "markdown",
   "id": "9012c5d5",
   "metadata": {},
   "source": [
    "### エルボー法でのクラスタ数の妥当性確認(グラフからサチるクラスタ数を把握する。)"
   ]
  },
  {
   "cell_type": "code",
   "execution_count": 221,
   "id": "709620f5",
   "metadata": {},
   "outputs": [
    {
     "data": {
      "image/png": "[encoded data removed]",
      "text/plain": [
       "<Figure size 640x480 with 1 Axes>"
      ]
     },
     "metadata": {},
     "output_type": "display_data"
    }
   ],
   "source": [
    "distortions = []\n",
    "\n",
    "for i  in range(1,11):                # 1~10クラスタまで一気に計算 \n",
    "    km = KMeans(n_clusters=i,\n",
    "                init='k-means++',     # k-means++法によりクラスタ中心を選択\n",
    "                n_init=10,\n",
    "                max_iter=300,\n",
    "                random_state=0)\n",
    "    km.fit(min_max_data)                         # クラスタリングの計算を実行\n",
    "    distortions.append(km.inertia_)   # km.fitするとkm.inertia_が得られる\n",
    "\n",
    "plt.plot(range(1,11),distortions,marker='o')\n",
    "plt.xlabel('Number of clusters')\n",
    "plt.ylabel('Distortion')\n",
    "plt.show()"
   ]
  },
  {
   "cell_type": "markdown",
   "id": "25378b5f",
   "metadata": {},
   "source": [
    "### PCAでの次元削減と2次元プロット"
   ]
  },
  {
   "cell_type": "code",
   "execution_count": 222,
   "id": "faa8b046",
   "metadata": {},
   "outputs": [],
   "source": [
    "from sklearn.decomposition import PCA"
   ]
  },
  {
   "cell_type": "code",
   "execution_count": 223,
   "id": "db40be21",
   "metadata": {},
   "outputs": [
    {
     "data": {
      "text/plain": [
       "PCA(n_components=2)"
      ]
     },
     "execution_count": 223,
     "metadata": {},
     "output_type": "execute_result"
    }
   ],
   "source": [
    "pca = PCA(n_components=2)\n",
    "pca.fit(min_max_data)"
   ]
  },
  {
   "cell_type": "code",
   "execution_count": 224,
   "id": "2a2124dc",
   "metadata": {},
   "outputs": [
    {
     "data": {
      "text/html": [
       "<div>\n",
       "<style scoped>\n",
       "    .dataframe tbody tr th:only-of-type {\n",
       "        vertical-align: middle;\n",
       "    }\n",
       "\n",
       "    .dataframe tbody tr th {\n",
       "        vertical-align: top;\n",
       "    }\n",
       "\n",
       "    .dataframe thead th {\n",
       "        text-align: right;\n",
       "    }\n",
       "</style>\n",
       "<table border=\"1\" class=\"dataframe\">\n",
       "  <thead>\n",
       "    <tr style=\"text-align: right;\">\n",
       "      <th></th>\n",
       "      <th>0</th>\n",
       "      <th>1</th>\n",
       "      <th>cluster</th>\n",
       "    </tr>\n",
       "  </thead>\n",
       "  <tbody>\n",
       "    <tr>\n",
       "      <th>0</th>\n",
       "      <td>0.612085</td>\n",
       "      <td>-0.238100</td>\n",
       "      <td>0</td>\n",
       "    </tr>\n",
       "    <tr>\n",
       "      <th>1</th>\n",
       "      <td>-0.408052</td>\n",
       "      <td>0.228192</td>\n",
       "      <td>2</td>\n",
       "    </tr>\n",
       "    <tr>\n",
       "      <th>2</th>\n",
       "      <td>-0.046142</td>\n",
       "      <td>-0.233884</td>\n",
       "      <td>1</td>\n",
       "    </tr>\n",
       "    <tr>\n",
       "      <th>3</th>\n",
       "      <td>0.560359</td>\n",
       "      <td>-0.276286</td>\n",
       "      <td>0</td>\n",
       "    </tr>\n",
       "    <tr>\n",
       "      <th>4</th>\n",
       "      <td>0.737989</td>\n",
       "      <td>-0.084053</td>\n",
       "      <td>0</td>\n",
       "    </tr>\n",
       "    <tr>\n",
       "      <th>...</th>\n",
       "      <td>...</td>\n",
       "      <td>...</td>\n",
       "      <td>...</td>\n",
       "    </tr>\n",
       "    <tr>\n",
       "      <th>351</th>\n",
       "      <td>0.274385</td>\n",
       "      <td>0.331515</td>\n",
       "      <td>3</td>\n",
       "    </tr>\n",
       "    <tr>\n",
       "      <th>352</th>\n",
       "      <td>-0.289951</td>\n",
       "      <td>-0.287571</td>\n",
       "      <td>1</td>\n",
       "    </tr>\n",
       "    <tr>\n",
       "      <th>353</th>\n",
       "      <td>-0.403601</td>\n",
       "      <td>-0.019901</td>\n",
       "      <td>2</td>\n",
       "    </tr>\n",
       "    <tr>\n",
       "      <th>354</th>\n",
       "      <td>-0.377568</td>\n",
       "      <td>0.062128</td>\n",
       "      <td>2</td>\n",
       "    </tr>\n",
       "    <tr>\n",
       "      <th>355</th>\n",
       "      <td>-0.304380</td>\n",
       "      <td>-0.284451</td>\n",
       "      <td>1</td>\n",
       "    </tr>\n",
       "  </tbody>\n",
       "</table>\n",
       "<p>356 rows × 3 columns</p>\n",
       "</div>"
      ],
      "text/plain": [
       "            0         1  cluster\n",
       "0    0.612085 -0.238100        0\n",
       "1   -0.408052  0.228192        2\n",
       "2   -0.046142 -0.233884        1\n",
       "3    0.560359 -0.276286        0\n",
       "4    0.737989 -0.084053        0\n",
       "..        ...       ...      ...\n",
       "351  0.274385  0.331515        3\n",
       "352 -0.289951 -0.287571        1\n",
       "353 -0.403601 -0.019901        2\n",
       "354 -0.377568  0.062128        2\n",
       "355 -0.304380 -0.284451        1\n",
       "\n",
       "[356 rows x 3 columns]"
      ]
     },
     "execution_count": 224,
     "metadata": {},
     "output_type": "execute_result"
    }
   ],
   "source": [
    "x_pca = pca.transform(min_max_data)\n",
    "pca_df = pd.DataFrame(x_pca)\n",
    "pca_df['cluster'] = result_df['cluster'].values"
   ]
  },
  {
   "cell_type": "code",
   "execution_count": 269,
   "id": "42e35b71",
   "metadata": {},
   "outputs": [
    {
     "data": {
      "text/plain": [
       "<matplotlib.legend.Legend at 0x7f93cfe98390>"
      ]
     },
     "execution_count": 269,
     "metadata": {},
     "output_type": "execute_result"
    },
    {
     "data": {
      "image/png": "[encoded data removed]",
      "text/plain": [
       "<Figure size 800x800 with 1 Axes>"
      ]
     },
     "metadata": {},
     "output_type": "display_data"
    }
   ],
   "source": [
    "# 可視化\n",
    "fig = plt.figure(figsize = (8, 8))\n",
    "colors = ['blue', 'red', 'green', 'orange', 'purple']\n",
    "\n",
    "for i in range(num_clusters):\n",
    "    tmp = pca_df.loc[pca_df['cluster'] == i]\n",
    "    mean_x = tmp[0].mean()\n",
    "    mean_y = tmp[1].mean()\n",
    "    plt.plot(mean_x, mean_y, marker='*', color=colors[i], markeredgecolor='black', markersize=16)\n",
    "    plt.scatter(tmp[0], tmp[1], label=f'cluster{i}', color=colors[i])\n",
    "\n",
    "# 各要素にDataFrameのインデックスの数字をラベルとして付ける\n",
    "\n",
    "plt.legend()"
   ]
  },
  {
   "cell_type": "code",
   "execution_count": 277,
   "id": "8f757e24",
   "metadata": {},
   "outputs": [],
   "source": [
    "# PCAの結果の数値を元のDFに付与\n",
    "result_df['pca_0'] = pca_df[0]\n",
    "result_df['pca_1'] = pca_df[1]"
   ]
  },
  {
   "cell_type": "code",
   "execution_count": 250,
   "id": "983ae440",
   "metadata": {},
   "outputs": [
    {
     "name": "stdout",
     "output_type": "stream",
     "text": [
      "0.19051550692476824 0.35345084615530864\n"
     ]
    }
   ],
   "source": [
    "print(mean_x, mean_y)"
   ]
  },
  {
   "cell_type": "code",
   "execution_count": 279,
   "id": "d3d79996",
   "metadata": {},
   "outputs": [],
   "source": [
    "def calc_2point_distance(x, mean_x, mean_y):\n",
    "    a = np.array([x['pca_0'], x['pca_1']])\n",
    "    b = np.array([mean_x, mean_y])\n",
    "    distance=np.linalg.norm(b-a)\n",
    "    return distance"
   ]
  },
  {
   "cell_type": "code",
   "execution_count": 280,
   "id": "e63d783c",
   "metadata": {},
   "outputs": [
    {
     "name": "stderr",
     "output_type": "stream",
     "text": [
      "/Users/shirai1/.local/share/virtualenvs/baseball_analysis-BxQ8eODn/lib/python3.7/site-packages/ipykernel_launcher.py:5: SettingWithCopyWarning: \n",
      "A value is trying to be set on a copy of a slice from a DataFrame.\n",
      "Try using .loc[row_indexer,col_indexer] = value instead\n",
      "\n",
      "See the caveats in the documentation: https://pandas.pydata.org/pandas-docs/stable/user_guide/indexing.html#returning-a-view-versus-a-copy\n",
      "  \"\"\"\n",
      "/Users/shirai1/.local/share/virtualenvs/baseball_analysis-BxQ8eODn/lib/python3.7/site-packages/ipykernel_launcher.py:5: SettingWithCopyWarning: \n",
      "A value is trying to be set on a copy of a slice from a DataFrame.\n",
      "Try using .loc[row_indexer,col_indexer] = value instead\n",
      "\n",
      "See the caveats in the documentation: https://pandas.pydata.org/pandas-docs/stable/user_guide/indexing.html#returning-a-view-versus-a-copy\n",
      "  \"\"\"\n",
      "/Users/shirai1/.local/share/virtualenvs/baseball_analysis-BxQ8eODn/lib/python3.7/site-packages/ipykernel_launcher.py:5: SettingWithCopyWarning: \n",
      "A value is trying to be set on a copy of a slice from a DataFrame.\n",
      "Try using .loc[row_indexer,col_indexer] = value instead\n",
      "\n",
      "See the caveats in the documentation: https://pandas.pydata.org/pandas-docs/stable/user_guide/indexing.html#returning-a-view-versus-a-copy\n",
      "  \"\"\"\n",
      "/Users/shirai1/.local/share/virtualenvs/baseball_analysis-BxQ8eODn/lib/python3.7/site-packages/ipykernel_launcher.py:5: SettingWithCopyWarning: \n",
      "A value is trying to be set on a copy of a slice from a DataFrame.\n",
      "Try using .loc[row_indexer,col_indexer] = value instead\n",
      "\n",
      "See the caveats in the documentation: https://pandas.pydata.org/pandas-docs/stable/user_guide/indexing.html#returning-a-view-versus-a-copy\n",
      "  \"\"\"\n",
      "/Users/shirai1/.local/share/virtualenvs/baseball_analysis-BxQ8eODn/lib/python3.7/site-packages/ipykernel_launcher.py:5: SettingWithCopyWarning: \n",
      "A value is trying to be set on a copy of a slice from a DataFrame.\n",
      "Try using .loc[row_indexer,col_indexer] = value instead\n",
      "\n",
      "See the caveats in the documentation: https://pandas.pydata.org/pandas-docs/stable/user_guide/indexing.html#returning-a-view-versus-a-copy\n",
      "  \"\"\"\n"
     ]
    }
   ],
   "source": [
    "# クラスタの中心からの距離を付与\n",
    "tmp_dfs = []\n",
    "for i in range(num_clusters):\n",
    "    tmp_df = result_df[result_df['cluster'] == i]\n",
    "    # tmp_df['distance_from_center'] = tmp_df.apply(calc_2point_distance, axis=1)\n",
    "    tmp_df['distance_from_center'] = tmp_df.apply(calc_2point_distance, args=(mean_x, mean_y), axis=1)\n",
    "    tmp_dfs.append(tmp_df)\n",
    "    \n",
    "distance_df = pd.concat(tmp_dfs).reset_index(drop=True)"
   ]
  },
  {
   "cell_type": "code",
   "execution_count": 333,
   "id": "cf628bc2",
   "metadata": {},
   "outputs": [
    {
     "name": "stdout",
     "output_type": "stream",
     "text": [
      "cluster:0\n",
      "投球数TOP1: シンカー [割合: 0.47783597222222224]\n",
      "投球数TOP2: スライダー [割合: 0.27175583333333336]\n",
      "投球数TOP3: チェンジアップ [割合: 0.10690374999999998]\n",
      "cluster:1\n",
      "投球数TOP1: スライダー [割合: 0.4293349999999999]\n",
      "投球数TOP2: 4シーム [割合: 0.3767710294117648]\n",
      "投球数TOP3: シンカー [割合: 0.08424499999999997]\n",
      "cluster:2\n",
      "投球数TOP1: 4シーム [割合: 0.5480004672897195]\n",
      "投球数TOP2: スライダー [割合: 0.19007252336448602]\n",
      "投球数TOP3: チェンジアップ [割合: 0.09419672897196264]\n",
      "cluster:3\n",
      "投球数TOP1: 4シーム [割合: 0.2941583582089553]\n",
      "投球数TOP2: チェンジアップ [割合: 0.23735417910447756]\n",
      "投球数TOP3: カーブ [割合: 0.15228895522388058]\n",
      "cluster:4\n",
      "投球数TOP1: カッター [割合: 0.3645833333333333]\n",
      "投球数TOP2: 4シーム [割合: 0.18124261904761904]\n",
      "投球数TOP3: シンカー [割合: 0.1714092857142857]\n"
     ]
    }
   ],
   "source": [
    "# クラスタごとの傾向の把握\n",
    "topn_pt = 3\n",
    "\n",
    "for i in range(num_clusters):\n",
    "    print(f\"cluster:{i}\")\n",
    "    tmp_df = result_df[result_df['cluster'] == i]\n",
    "    top3_pt_names = tmp_df[all_pitch_types].mean().sort_values(ascending=False)[:topn_pt].index.tolist()\n",
    "    top3_pt_scores = tmp_df[all_pitch_types].mean().sort_values(ascending=False)[:topn_pt].values.tolist()\n",
    "    for i in range(topn_pt):\n",
    "        print(f'投球数TOP{i + 1}: {pt_dict[top3_pt_names[i]]} [割合: {top3_pt_scores[i]}]')"
   ]
  },
  {
   "cell_type": "code",
   "execution_count": 335,
   "id": "43f54788",
   "metadata": {},
   "outputs": [
    {
     "data": {
      "text/html": [
       "<div>\n",
       "<style scoped>\n",
       "    .dataframe tbody tr th:only-of-type {\n",
       "        vertical-align: middle;\n",
       "    }\n",
       "\n",
       "    .dataframe tbody tr th {\n",
       "        vertical-align: top;\n",
       "    }\n",
       "\n",
       "    .dataframe thead th {\n",
       "        text-align: right;\n",
       "    }\n",
       "</style>\n",
       "<table border=\"1\" class=\"dataframe\">\n",
       "  <thead>\n",
       "    <tr style=\"text-align: right;\">\n",
       "      <th></th>\n",
       "      <th>player_name</th>\n",
       "      <th>SL</th>\n",
       "      <th>SI</th>\n",
       "      <th>CH</th>\n",
       "      <th>CU</th>\n",
       "      <th>FF</th>\n",
       "      <th>FS</th>\n",
       "      <th>FC</th>\n",
       "      <th>KC</th>\n",
       "      <th>FA</th>\n",
       "      <th>CS</th>\n",
       "      <th>EP</th>\n",
       "      <th>cluster</th>\n",
       "      <th>pca_0</th>\n",
       "      <th>pca_1</th>\n",
       "      <th>distance_from_center</th>\n",
       "    </tr>\n",
       "  </thead>\n",
       "  <tbody>\n",
       "    <tr>\n",
       "      <th>323</th>\n",
       "      <td>Darvish_Yu</td>\n",
       "      <td>0.18392</td>\n",
       "      <td>0.09419</td>\n",
       "      <td>0.0</td>\n",
       "      <td>0.04393</td>\n",
       "      <td>0.24162</td>\n",
       "      <td>0.07967</td>\n",
       "      <td>0.35108</td>\n",
       "      <td>0.00558</td>\n",
       "      <td>0.0</td>\n",
       "      <td>0.0</td>\n",
       "      <td>0.0</td>\n",
       "      <td>4</td>\n",
       "      <td>0.072891</td>\n",
       "      <td>0.27258</td>\n",
       "      <td>0.142744</td>\n",
       "    </tr>\n",
       "  </tbody>\n",
       "</table>\n",
       "</div>"
      ],
      "text/plain": [
       "    player_name       SL       SI   CH       CU       FF       FS       FC  \\\n",
       "323  Darvish_Yu  0.18392  0.09419  0.0  0.04393  0.24162  0.07967  0.35108   \n",
       "\n",
       "          KC   FA   CS   EP  cluster     pca_0    pca_1  distance_from_center  \n",
       "323  0.00558  0.0  0.0  0.0        4  0.072891  0.27258              0.142744  "
      ]
     },
     "execution_count": 335,
     "metadata": {},
     "output_type": "execute_result"
    }
   ],
   "source": [
    "distance_df[distance_df['player_name'] == 'Darvish_Yu']"
   ]
  },
  {
   "cell_type": "code",
   "execution_count": 336,
   "id": "5eabc8d0",
   "metadata": {},
   "outputs": [
    {
     "data": {
      "text/html": [
       "<div>\n",
       "<style scoped>\n",
       "    .dataframe tbody tr th:only-of-type {\n",
       "        vertical-align: middle;\n",
       "    }\n",
       "\n",
       "    .dataframe tbody tr th {\n",
       "        vertical-align: top;\n",
       "    }\n",
       "\n",
       "    .dataframe thead th {\n",
       "        text-align: right;\n",
       "    }\n",
       "</style>\n",
       "<table border=\"1\" class=\"dataframe\">\n",
       "  <thead>\n",
       "    <tr style=\"text-align: right;\">\n",
       "      <th></th>\n",
       "      <th>player_name</th>\n",
       "      <th>SL</th>\n",
       "      <th>SI</th>\n",
       "      <th>CH</th>\n",
       "      <th>CU</th>\n",
       "      <th>FF</th>\n",
       "      <th>FS</th>\n",
       "      <th>FC</th>\n",
       "      <th>KC</th>\n",
       "      <th>FA</th>\n",
       "      <th>CS</th>\n",
       "      <th>EP</th>\n",
       "      <th>cluster</th>\n",
       "      <th>pca_0</th>\n",
       "      <th>pca_1</th>\n",
       "      <th>distance_from_center</th>\n",
       "    </tr>\n",
       "  </thead>\n",
       "  <tbody>\n",
       "    <tr>\n",
       "      <th>113</th>\n",
       "      <td>Ohtani_Shohei</td>\n",
       "      <td>0.39064</td>\n",
       "      <td>0.0369</td>\n",
       "      <td>0.0</td>\n",
       "      <td>0.08634</td>\n",
       "      <td>0.27577</td>\n",
       "      <td>0.11982</td>\n",
       "      <td>0.09053</td>\n",
       "      <td>0.0</td>\n",
       "      <td>0.0</td>\n",
       "      <td>0.0</td>\n",
       "      <td>0.0</td>\n",
       "      <td>1</td>\n",
       "      <td>-0.048728</td>\n",
       "      <td>-0.090439</td>\n",
       "      <td>0.504258</td>\n",
       "    </tr>\n",
       "  </tbody>\n",
       "</table>\n",
       "</div>"
      ],
      "text/plain": [
       "       player_name       SL      SI   CH       CU       FF       FS       FC  \\\n",
       "113  Ohtani_Shohei  0.39064  0.0369  0.0  0.08634  0.27577  0.11982  0.09053   \n",
       "\n",
       "      KC   FA   CS   EP  cluster     pca_0     pca_1  distance_from_center  \n",
       "113  0.0  0.0  0.0  0.0        1 -0.048728 -0.090439              0.504258  "
      ]
     },
     "execution_count": 336,
     "metadata": {},
     "output_type": "execute_result"
    }
   ],
   "source": [
    "distance_df[distance_df['player_name'] == 'Ohtani_Shohei']"
   ]
  },
  {
   "cell_type": "code",
   "execution_count": 337,
   "id": "942ff3b6",
   "metadata": {},
   "outputs": [
    {
     "data": {
      "text/html": [
       "<div>\n",
       "<style scoped>\n",
       "    .dataframe tbody tr th:only-of-type {\n",
       "        vertical-align: middle;\n",
       "    }\n",
       "\n",
       "    .dataframe tbody tr th {\n",
       "        vertical-align: top;\n",
       "    }\n",
       "\n",
       "    .dataframe thead th {\n",
       "        text-align: right;\n",
       "    }\n",
       "</style>\n",
       "<table border=\"1\" class=\"dataframe\">\n",
       "  <thead>\n",
       "    <tr style=\"text-align: right;\">\n",
       "      <th></th>\n",
       "      <th>player_name</th>\n",
       "      <th>SL</th>\n",
       "      <th>SI</th>\n",
       "      <th>CH</th>\n",
       "      <th>CU</th>\n",
       "      <th>FF</th>\n",
       "      <th>FS</th>\n",
       "      <th>FC</th>\n",
       "      <th>KC</th>\n",
       "      <th>FA</th>\n",
       "      <th>CS</th>\n",
       "      <th>EP</th>\n",
       "      <th>cluster</th>\n",
       "      <th>pca_0</th>\n",
       "      <th>pca_1</th>\n",
       "      <th>distance_from_center</th>\n",
       "    </tr>\n",
       "  </thead>\n",
       "  <tbody>\n",
       "    <tr>\n",
       "      <th>150</th>\n",
       "      <td>Verlander_Justin</td>\n",
       "      <td>0.28347</td>\n",
       "      <td>0.0</td>\n",
       "      <td>0.02417</td>\n",
       "      <td>0.18796</td>\n",
       "      <td>0.50441</td>\n",
       "      <td>0.0</td>\n",
       "      <td>0.0</td>\n",
       "      <td>0.0</td>\n",
       "      <td>0.0</td>\n",
       "      <td>0.0</td>\n",
       "      <td>0.0</td>\n",
       "      <td>2</td>\n",
       "      <td>-0.307048</td>\n",
       "      <td>-0.063532</td>\n",
       "      <td>0.649187</td>\n",
       "    </tr>\n",
       "  </tbody>\n",
       "</table>\n",
       "</div>"
      ],
      "text/plain": [
       "          player_name       SL   SI       CH       CU       FF   FS   FC   KC  \\\n",
       "150  Verlander_Justin  0.28347  0.0  0.02417  0.18796  0.50441  0.0  0.0  0.0   \n",
       "\n",
       "      FA   CS   EP  cluster     pca_0     pca_1  distance_from_center  \n",
       "150  0.0  0.0  0.0        2 -0.307048 -0.063532              0.649187  "
      ]
     },
     "execution_count": 337,
     "metadata": {},
     "output_type": "execute_result"
    }
   ],
   "source": [
    "distance_df[distance_df['player_name'] == 'Verlander_Justin']"
   ]
  },
  {
   "cell_type": "code",
   "execution_count": null,
   "id": "15b76f98",
   "metadata": {},
   "outputs": [],
   "source": []
  },
  {
   "cell_type": "code",
   "execution_count": null,
   "id": "8dc6a44c",
   "metadata": {},
   "outputs": [],
   "source": []
  }
 ],
 "metadata": {
  "kernelspec": {
   "display_name": "Python 3 (ipykernel)",
   "language": "python",
   "name": "python3"
  },
  "language_info": {
   "codemirror_mode": {
    "name": "ipython",
    "version": 3
   },
   "file_extension": ".py",
   "mimetype": "text/x-python",
   "name": "python",
   "nbconvert_exporter": "python",
   "pygments_lexer": "ipython3",
   "version": "3.7.0"
  }
 },
 "nbformat": 4,
 "nbformat_minor": 5
}
